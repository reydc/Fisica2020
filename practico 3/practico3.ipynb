{
 "metadata": {
  "language_info": {
   "codemirror_mode": {
    "name": "ipython",
    "version": 3
   },
   "file_extension": ".py",
   "mimetype": "text/x-python",
   "name": "python",
   "nbconvert_exporter": "python",
   "pygments_lexer": "ipython3",
   "version": "3.5.3-final"
  },
  "orig_nbformat": 2,
  "kernelspec": {
   "name": "Python 3.5.3 64-bit",
   "display_name": "Python 3.5.3 64-bit",
   "metadata": {
    "interpreter": {
     "hash": "767d51c1340bd893661ea55ea3124f6de3c7a262a8b4abca0554b478b1e2ff90"
    }
   }
  }
 },
 "nbformat": 4,
 "nbformat_minor": 2,
 "cells": [
  {
   "source": [
    "### Ejercicio 1  \n",
    "\n",
    "(a) El desplazamiento del cuerpo es de $r = \\sqrt{b^2 + h^2} = 5\\ [m]$. A aceleración constante de $a = 0.1\\ g$ se hace  \n",
    "una fuerza de $F = m\\ a = 100\\ [Kg]\\ a = 98\\ [N]$, entonces el trabajo que se hace para desplazar el cuerpo es $W = 490\\ [J]$.  \n",
    "\n",
    "(b) El trabajo hecho por la fuerza de gravedad, si se lo deja en caída libre, es el cambio de potencial:  \n",
    "\n",
    "$W = -\\Delta U = -m\\ g\\ \\Delta h = -100\\ [Kg]\\ 9.8\\ [m/s^2]\\ (0 - 3)= 2940\\ [J]$\n",
    "\n",
    "Observar que si calcularamos el trabajo sin rozamiento de la superficie para el cuerpo cayendo por el plano inclinado,  \n",
    "tenemos una componente que va hacia abajo para el objeto, $F = m\\ g\\ \\sin(\\theta)$, $\\theta = \\arctan(h/b) = 36.87^o$,  \n",
    "es decir:  \n",
    "\n",
    "$W = F\\ r = 588\\ [N]\\ 5\\ [m] = 2940\\ [J]$\n",
    "\n",
    "(c) $W = \\Delta K = K_f - K_i = {1 \\over 2} m\\ (v_f^2 - v_i^2) = 50\\ [Kg]\\ v_f^2$  \n",
    "En ambos casos la velocidad inicial es nula y la aceleración es constante, la variación de energía es tal que:  \n",
    "\n",
    "$v_f = \\sqrt{\\dfrac{2\\ W}{m}} = \\sqrt{\\dfrac{W}{50\\ [Kg]}}$  \n",
    "\n",
    "En el caso de (a) $v_f = \\dfrac{7\\sqrt{5}}{5}\\ [m/s]$. En el caso de (b) $v_f = \\dfrac{7\\sqrt{30}}{5}\\ [m/s]$. \n",
    "\n",
    "(d) $v_f = a\\ t_f \\implies t_f = \\dfrac{v_f}{a}$  \n",
    "\n",
    "En el caso (a) $t_f = \\dfrac{10\\sqrt{5}}{7}\\ [s] \\approx 3.2\\ [s]$. \n",
    "En el caso (b), en caída libre, $t_f = \\dfrac{\\sqrt{30}}{7}\\ [s] \\approx 0.78\\ [s]$. \n",
    "\n",
    "(e) Recordar que la potencia se calcula según $P = \\dfrac{W}{\\Delta t}$.  \n",
    "\n",
    "En el caso (a), $P \\approx 153.4\\ [W]$. En el caso (b) $P = 3757.4\\ [W]$.  \n",
    "\n"
   ],
   "cell_type": "markdown",
   "metadata": {}
  },
  {
   "source": [
    "### Ejercicio 2  \n",
    "\n",
    "EL bloque es empujado por una fuerza con un ángulo de aplicación $\\theta$ sobre la horizontal.  \n",
    "La fuerza aumenta de forma que $\\Vert \\vec{F}(x) \\Vert = 6x\\ [N/m]$.\n",
    "\n",
    "(a) El desplazamiento es $\\Delta \\vec{x} = (20 - 10)\\ [m] \\mathbf{\\hat{\\imath}} = 10\\ [m] \\mathbf{\\hat{\\imath}}$, pero   \n",
    "$W = { \\displaystyle \\int_{\\vec{x_i}}^{\\vec{x_f}} \\vec{F} \\cdot d\\vec{x} } = { \\displaystyle \\int_{x_i}^{x_f} 6x \\cos(\\theta) dx\\ [N/m] } = 3x^2 \\bigg|_{10\\ [m]}^{20\\ [m]} \\cos(\\theta)\\ [N/m] = 900 \\cos(\\theta)\\ [J]$  \n",
    "\n",
    "(b) Como se parte del reposo $K_i = 0\\ [J]$. Al desplazamiento se le opone una fuerza de rozamiento $\\vec{F}_r = -\\mu_d\\ N\\ \\mathbf{\\hat{\\imath}}$.  \n",
    "Ahora bien, tenemos dos fuerzas vérticales, la componente de la fuerza aplicada y el peso, y ambas tienen el mismo sentido:\n",
    " \n",
    "$\\vec{N} = (m\\ g\\ + 6x\\ \\sin(\\theta)\\ [N/m])\\ \\mathbf{\\hat{\\jmath}}$  \n",
    "\n",
    "$\\vec{F}_r = -\\mu_d\\ (m\\ g\\ + 6x\\ \\sin(\\theta)\\ [N/m])\\ \\mathbf{\\hat{\\imath}}$  \n",
    "\n",
    "La fuerza que desplaza el cuerpo es ahora:  \n",
    "\n",
    "$\\vec{R} = 6x\\ \\cos(\\theta)\\ [N/m] - \\mu_d\\ (m\\ g\\ + 6x\\ \\sin(\\theta)\\ [N/m])\\ \\mathbf{\\hat{\\imath}}$  \n",
    "\n",
    "El trabajo es ahora:\n",
    "\n",
    "$\n",
    "\\begin{align}\n",
    "W &=  { \\displaystyle \\int_{\\vec{x_i}}^{\\vec{x_f}} \\vec{R} \\cdot d\\vec{x} } = { \\displaystyle \\int_{x_i}^{x_f} R\\ dx } = { \\displaystyle \\int_{x_i}^{x_f} \\big\\lbrace 6x\\ \\cos(\\theta)\\ [N/m] - \\mu_d\\ (m\\ g\\ + 6x\\ \\sin(\\theta)\\ [N/m]) \\big\\rbrace\\ dx }\\\\\n",
    "&= { \\displaystyle \\cos(\\theta)\\ [N/m]\\ \\int_{\\vec{x_i}}^{\\vec{x_f}} 6x\\ dx } - { \\displaystyle \\mu_d\\ m\\ g\\ \\int_{\\vec{x_i}}^{\\vec{x_f}} dx } - { \\displaystyle \\mu_d\\ \\sin(\\theta)\\ [N/m]\\ \\int_{\\vec{x_i}}^{\\vec{x_f}} 6x\\ dx }\\\\\n",
    "&= { \\displaystyle (\\cos(\\theta)\\ - \\mu_d\\ \\sin(\\theta))\\ [N/m]\\ \\int_{\\vec{x_i}}^{\\vec{x_f}} 6x\\ dx } - { \\displaystyle \\mu_d\\ m\\ g\\ \\int_{\\vec{x_i}}^{\\vec{x_f}} dx }\\\\\n",
    "&= (\\cos(\\theta)\\ - \\mu_d\\ \\sin(\\theta))\\ [N/m]\\ 3x^2 \\bigg|_{10\\ [m]}^{20\\ [m]} - \\mu_d\\ m\\ g\\ x \\bigg|_{10\\ [m]}^{20\\ [m]}\\\\\n",
    "&= \\big[\\ 900\\ (\\cos(\\theta)\\ - \\mu_d\\ \\sin(\\theta))\\ - 1960\\ \\mu_d\\ \\big]\\ [J]\n",
    "\\end{align}\n",
    "$\n",
    "\n",
    "y $W = \\Delta K = K_f = \\big[\\ 900\\ (\\cos(\\theta)\\ - \\mu_d\\ \\sin(\\theta))\\ - 1960\\ \\mu_d\\ \\big]\\ [J]$.  \n",
    "\n",
    "(1) $\\mu_d = 0 \\implies K_f = 900 \\cos(\\theta)\\ [J]$  \n",
    "\n",
    "(2) $\\mu_d = 0.05 \\implies K_f = \\big[\\ 900\\ (\\cos(\\theta)\\ - 0.05\\ \\sin(\\theta))\\ - 98\\ \\big]\\ [J]$  \n"
   ],
   "cell_type": "markdown",
   "metadata": {}
  },
  {
   "cell_type": "code",
   "execution_count": null,
   "metadata": {},
   "outputs": [],
   "source": [
    "### Ejercicio 3  \n",
    "\n",
    "\n"
   ]
  },
  {
   "cell_type": "code",
   "execution_count": null,
   "metadata": {},
   "outputs": [],
   "source": [
    "### Ejercicio 4  \n",
    "\n",
    "\n"
   ]
  },
  {
   "cell_type": "code",
   "execution_count": null,
   "metadata": {},
   "outputs": [],
   "source": [
    "### Ejercicio 5  \n",
    "\n"
   ]
  },
  {
   "cell_type": "code",
   "execution_count": null,
   "metadata": {},
   "outputs": [],
   "source": [
    "### Ejercicio 6  \n",
    "\n"
   ]
  },
  {
   "cell_type": "code",
   "execution_count": null,
   "metadata": {},
   "outputs": [],
   "source": [
    "### Ejercicio 7  \n",
    "\n"
   ]
  },
  {
   "cell_type": "code",
   "execution_count": null,
   "metadata": {},
   "outputs": [],
   "source": [
    "### Ejercicio 8  \n",
    "\n"
   ]
  },
  {
   "cell_type": "code",
   "execution_count": null,
   "metadata": {},
   "outputs": [],
   "source": [
    "### Ejercicio 9  \n",
    "\n",
    "\n"
   ]
  },
  {
   "cell_type": "code",
   "execution_count": null,
   "metadata": {},
   "outputs": [],
   "source": [
    "### Ejercicio 10  \n",
    "\n"
   ]
  },
  {
   "cell_type": "code",
   "execution_count": null,
   "metadata": {},
   "outputs": [],
   "source": [
    "### Ejercicio 11  \n",
    "\n"
   ]
  },
  {
   "cell_type": "code",
   "execution_count": null,
   "metadata": {},
   "outputs": [],
   "source": [
    "### Ejercicio 12  \n",
    "\n"
   ]
  },
  {
   "cell_type": "code",
   "execution_count": null,
   "metadata": {},
   "outputs": [],
   "source": [
    "### Ejercicio 1 (Anexo)  \n",
    "\n",
    "\n",
    "\n"
   ]
  },
  {
   "cell_type": "code",
   "execution_count": null,
   "metadata": {},
   "outputs": [],
   "source": [
    "### Ejercicio 2 (Anexo)  \n",
    "\n"
   ]
  },
  {
   "cell_type": "code",
   "execution_count": null,
   "metadata": {},
   "outputs": [],
   "source": [
    "### Ejercicio 3 (Anexo)  \n",
    "\n",
    "\n"
   ]
  },
  {
   "cell_type": "code",
   "execution_count": null,
   "metadata": {},
   "outputs": [],
   "source": [
    "### Ejercicio 4 (Anexo)  \n",
    "\n",
    "\n"
   ]
  }
 ]
}