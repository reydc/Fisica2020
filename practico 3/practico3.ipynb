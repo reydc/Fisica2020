{
 "metadata": {
  "language_info": {
   "codemirror_mode": {
    "name": "ipython",
    "version": 3
   },
   "file_extension": ".py",
   "mimetype": "text/x-python",
   "name": "python",
   "nbconvert_exporter": "python",
   "pygments_lexer": "ipython3",
   "version": "3.5.3-final"
  },
  "orig_nbformat": 2,
  "kernelspec": {
   "name": "Python 3.5.3 64-bit",
   "display_name": "Python 3.5.3 64-bit",
   "metadata": {
    "interpreter": {
     "hash": "767d51c1340bd893661ea55ea3124f6de3c7a262a8b4abca0554b478b1e2ff90"
    }
   }
  }
 },
 "nbformat": 4,
 "nbformat_minor": 2,
 "cells": [
  {
   "source": [
    "### Ejercicio 1  \n",
    "\n",
    "(a) El desplazamiento del cuerpo es de $r = \\sqrt{b^2 + h^2} = 5\\ [m]$. A aceleración constante de $a = 0.1\\ g$ se hace  \n",
    "una fuerza de $F = m\\ a = 100\\ [Kg]\\ a = 98\\ [N]$, entonces el trabajo que se hace para desplazar el cuerpo es $W = 490\\ [J]$.  \n",
    "\n",
    "(b) El trabajo hecho por la fuerza de gravedad, si se lo deja en caída libre, es el cambio de potencial:  \n",
    "\n",
    "$W = -\\Delta U = -m\\ g\\ \\Delta h = -100\\ [Kg]\\ 9.8\\ [m/s^2]\\ (0 - 3)= 2940\\ [J]$\n",
    "\n",
    "Observar que si calcularamos el trabajo sin rozamiento de la superficie para el cuerpo cayendo por el plano inclinado,  \n",
    "tenemos una componente que va hacia abajo para el objeto, $F = m\\ g\\ \\sin(\\theta)$, $\\theta = \\arctan(h/b) = 36.87^o$,  \n",
    "es decir:  \n",
    "\n",
    "$W = F\\ r = 588\\ [N]\\ 5\\ [m] = 2940\\ [J]$\n",
    "\n",
    "(c) $\\Delta K = K_f - K_i = 1/2\\ m\\ (v_f^2 - v_i^2) = 50\\ [Kg]\\ v_f^2$ \n",
    "\n",
    "(d) \n",
    "\n",
    "(e) Recordar que la potencia se calcula según $P = \\dfrac{W}{\\Delta t}$.  \n",
    "\n",
    "En el caso (a), $P = \\ [W]$. En el caso (b) $P = \\ [W]$.  \n",
    "\n"
   ],
   "cell_type": "markdown",
   "metadata": {}
  },
  {
   "cell_type": "code",
   "execution_count": null,
   "metadata": {},
   "outputs": [],
   "source": [
    "### Ejercicio 2  \n",
    "\n"
   ]
  },
  {
   "cell_type": "code",
   "execution_count": null,
   "metadata": {},
   "outputs": [],
   "source": [
    "### Ejercicio 3  \n",
    "\n",
    "\n"
   ]
  },
  {
   "cell_type": "code",
   "execution_count": null,
   "metadata": {},
   "outputs": [],
   "source": [
    "### Ejercicio 4  \n",
    "\n",
    "\n"
   ]
  },
  {
   "cell_type": "code",
   "execution_count": null,
   "metadata": {},
   "outputs": [],
   "source": [
    "### Ejercicio 5  \n",
    "\n"
   ]
  },
  {
   "cell_type": "code",
   "execution_count": null,
   "metadata": {},
   "outputs": [],
   "source": [
    "### Ejercicio 6  \n",
    "\n"
   ]
  },
  {
   "cell_type": "code",
   "execution_count": null,
   "metadata": {},
   "outputs": [],
   "source": [
    "### Ejercicio 7  \n",
    "\n"
   ]
  },
  {
   "cell_type": "code",
   "execution_count": null,
   "metadata": {},
   "outputs": [],
   "source": [
    "### Ejercicio 8  \n",
    "\n"
   ]
  },
  {
   "cell_type": "code",
   "execution_count": null,
   "metadata": {},
   "outputs": [],
   "source": [
    "### Ejercicio 9  \n",
    "\n",
    "\n"
   ]
  },
  {
   "cell_type": "code",
   "execution_count": null,
   "metadata": {},
   "outputs": [],
   "source": [
    "### Ejercicio 10  \n",
    "\n"
   ]
  },
  {
   "cell_type": "code",
   "execution_count": null,
   "metadata": {},
   "outputs": [],
   "source": [
    "### Ejercicio 11  \n",
    "\n"
   ]
  },
  {
   "cell_type": "code",
   "execution_count": null,
   "metadata": {},
   "outputs": [],
   "source": [
    "### Ejercicio 12  \n",
    "\n"
   ]
  },
  {
   "cell_type": "code",
   "execution_count": null,
   "metadata": {},
   "outputs": [],
   "source": [
    "### Ejercicio 1 (Anexo)  \n",
    "\n",
    "\n",
    "\n"
   ]
  },
  {
   "cell_type": "code",
   "execution_count": null,
   "metadata": {},
   "outputs": [],
   "source": [
    "### Ejercicio 2 (Anexo)  \n",
    "\n"
   ]
  },
  {
   "cell_type": "code",
   "execution_count": null,
   "metadata": {},
   "outputs": [],
   "source": [
    "### Ejercicio 3 (Anexo)  \n",
    "\n",
    "\n"
   ]
  },
  {
   "cell_type": "code",
   "execution_count": null,
   "metadata": {},
   "outputs": [],
   "source": [
    "### Ejercicio 4 (Anexo)  \n",
    "\n",
    "\n"
   ]
  }
 ]
}