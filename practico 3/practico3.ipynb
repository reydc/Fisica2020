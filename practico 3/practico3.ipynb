{
 "metadata": {
  "language_info": {
   "codemirror_mode": {
    "name": "ipython",
    "version": 3
   },
   "file_extension": ".py",
   "mimetype": "text/x-python",
   "name": "python",
   "nbconvert_exporter": "python",
   "pygments_lexer": "ipython3",
   "version": "3.5.3-final"
  },
  "orig_nbformat": 2,
  "kernelspec": {
   "name": "Python 3.5.3 64-bit",
   "display_name": "Python 3.5.3 64-bit",
   "metadata": {
    "interpreter": {
     "hash": "767d51c1340bd893661ea55ea3124f6de3c7a262a8b4abca0554b478b1e2ff90"
    }
   }
  }
 },
 "nbformat": 4,
 "nbformat_minor": 2,
 "cells": [
  {
   "source": [
    "### Ejercicio 1  \n",
    "\n",
    "(a) El desplazamiento del cuerpo es de $r = \\sqrt{b^2 + h^2} = 5\\ [m]$. A aceleración constante de $a = 0.1\\ g$ se hace  \n",
    "una fuerza de $F = m\\ a = 100\\ [Kg]\\ a = 98\\ [N]$, entonces el trabajo que se hace para desplazar el cuerpo es $W = 490\\ [J]$.  \n",
    "\n",
    "(b) El trabajo hecho por la fuerza de gravedad, si se lo deja en caída libre, es el cambio de potencial:  \n",
    "\n",
    "$W = -\\Delta U = -m\\ g\\ \\Delta h = -100\\ [Kg]\\ 9.8\\ [m/s^2]\\ (0 - 3)= 2940\\ [J]$\n",
    "\n",
    "Observar que si calcularamos el trabajo sin rozamiento de la superficie para el cuerpo cayendo por el plano inclinado,  \n",
    "tenemos una componente que va hacia abajo para el objeto, $F = m\\ g\\ \\sin(\\theta)$, $\\theta = \\arctan(h/b) = 36.87^o$,  \n",
    "es decir:  \n",
    "\n",
    "$W = F\\ r = 588\\ [N]\\ 5\\ [m] = 2940\\ [J]$\n",
    "\n",
    "(c) $W = \\Delta K = K_f - K_i = {1 \\over 2} m\\ (v_f^2 - v_i^2) = 50\\ [Kg]\\ v_f^2$  \n",
    "En ambos casos la velocidad inicial es nula y la aceleración es constante, la variación de energía es tal que:  \n",
    "\n",
    "$v_f = \\sqrt{\\dfrac{2\\ W}{m}} = \\sqrt{\\dfrac{W}{50\\ [Kg]}}$  \n",
    "\n",
    "En el caso de (a) $v_f = \\dfrac{7\\sqrt{5}}{5}\\ [m/s]$. En el caso de (b) $v_f = \\dfrac{7\\sqrt{30}}{5}\\ [m/s]$. \n",
    "\n",
    "(d) $v_f = a\\ t_f \\implies t_f = \\dfrac{v_f}{a}$  \n",
    "\n",
    "En el caso (a) $t_f = \\dfrac{10\\sqrt{5}}{7}\\ [s] \\approx 3.2\\ [s]$. \n",
    "En el caso (b), en caída libre, $t_f = \\dfrac{\\sqrt{30}}{7}\\ [s] \\approx 0.78\\ [s]$. \n",
    "\n",
    "(e) Recordar que la potencia se calcula según $P = \\dfrac{W}{\\Delta t}$.  \n",
    "\n",
    "En el caso (a), $P \\approx 153.4\\ [W]$. En el caso (b) $P = 3757.4\\ [W]$.  \n",
    "\n"
   ],
   "cell_type": "markdown",
   "metadata": {}
  },
  {
   "source": [
    "### Ejercicio 2  \n",
    "\n",
    "EL bloque es empujado por una fuerza con un ángulo de aplicación $\\theta$ sobre la horizontal.  \n",
    "La fuerza aumenta de forma que $\\Vert \\vec{F}(x) \\Vert = 6x\\ [N/m]$.\n",
    "\n",
    "(a) El desplazamiento es $\\Delta \\vec{x} = (20 - 10)\\ [m] \\mathbf{\\hat{\\imath}} = 10\\ [m] \\mathbf{\\hat{\\imath}}$, pero   \n",
    "$W = { \\displaystyle \\int_{\\vec{x_i}}^{\\vec{x_f}} \\vec{F} \\cdot d\\vec{x} } = { \\displaystyle \\int_{x_i}^{x_f} 6x \\cos(\\theta) dx\\ [N/m] } = 3x^2 \\bigg|_{10\\ [m]}^{20\\ [m]} \\cos(\\theta)\\ [N/m] = 900 \\cos(\\theta)\\ [J]$  \n",
    "\n",
    "(b) Como se parte del reposo $K_i = 0\\ [J]$. Al desplazamiento se le opone una fuerza de rozamiento $\\vec{F}_r = -\\mu_d\\ N\\ \\mathbf{\\hat{\\imath}}$.  \n",
    "Ahora bien, tenemos dos fuerzas vérticales, la componente de la fuerza aplicada y el peso, y ambas tienen el mismo sentido:\n",
    " \n",
    "$\\vec{N} = (m\\ g\\ + 6x\\ \\sin(\\theta)\\ [N/m])\\ \\mathbf{\\hat{\\jmath}}$  \n",
    "\n",
    "$\\vec{F}_r = -\\mu_d\\ (m\\ g\\ + 6x\\ \\sin(\\theta)\\ [N/m])\\ \\mathbf{\\hat{\\imath}}$  \n",
    "\n",
    "La fuerza que desplaza el cuerpo es ahora:  \n",
    "\n",
    "$\\vec{R} = 6x\\ \\cos(\\theta)\\ [N/m] - \\mu_d\\ (m\\ g\\ + 6x\\ \\sin(\\theta)\\ [N/m])\\ \\mathbf{\\hat{\\imath}}$  \n",
    "\n",
    "El trabajo es ahora:\n",
    "\n",
    "$\n",
    "\\begin{align}\n",
    "W &=  { \\displaystyle \\int_{\\vec{x_i}}^{\\vec{x_f}} \\vec{R} \\cdot d\\vec{x} } = { \\displaystyle \\int_{x_i}^{x_f} R\\ dx } = { \\displaystyle \\int_{x_i}^{x_f} \\big\\lbrace 6x\\ \\cos(\\theta)\\ [N/m] - \\mu_d\\ (m\\ g\\ + 6x\\ \\sin(\\theta)\\ [N/m]) \\big\\rbrace\\ dx }\\\\\n",
    "&= { \\displaystyle \\cos(\\theta)\\ [N/m]\\ \\int_{\\vec{x_i}}^{\\vec{x_f}} 6x\\ dx } - { \\displaystyle \\mu_d\\ m\\ g\\ \\int_{\\vec{x_i}}^{\\vec{x_f}} dx } - { \\displaystyle \\mu_d\\ \\sin(\\theta)\\ [N/m]\\ \\int_{\\vec{x_i}}^{\\vec{x_f}} 6x\\ dx }\\\\\n",
    "&= { \\displaystyle (\\cos(\\theta)\\ - \\mu_d\\ \\sin(\\theta))\\ [N/m]\\ \\int_{\\vec{x_i}}^{\\vec{x_f}} 6x\\ dx } - { \\displaystyle \\mu_d\\ m\\ g\\ \\int_{\\vec{x_i}}^{\\vec{x_f}} dx }\\\\\n",
    "&= (\\cos(\\theta)\\ - \\mu_d\\ \\sin(\\theta))\\ [N/m]\\ 3x^2 \\bigg|_{10\\ [m]}^{20\\ [m]} - \\mu_d\\ m\\ g\\ x \\bigg|_{10\\ [m]}^{20\\ [m]}\\\\\n",
    "&= \\big[\\ 900\\ (\\cos(\\theta)\\ - \\mu_d\\ \\sin(\\theta))\\ - 1960\\ \\mu_d\\ \\big]\\ [J]\n",
    "\\end{align}\n",
    "$\n",
    "\n",
    "y $W = \\Delta K = K_f = \\big[\\ 900\\ (\\cos(\\theta)\\ - \\mu_d\\ \\sin(\\theta))\\ - 1960\\ \\mu_d\\ \\big]\\ [J]$  \n",
    "\n",
    "(1) $\\mu_d = 0 \\implies K_f = 900 \\cos(\\theta)\\ [J]$  \n",
    "\n",
    "(2) $\\mu_d = 0.05 \\implies K_f = \\big[\\ 900\\ (\\cos(\\theta)\\ - 0.05\\ \\sin(\\theta))\\ - 98\\ \\big]\\ [J]$  \n"
   ],
   "cell_type": "markdown",
   "metadata": {}
  },
  {
   "source": [
    "### Ejercicio 3  \n",
    "\n",
    "En este problema tenemos una masa colocada en el extremo de una cuerda con longitud $L = 1.32\\ [m]$ y que parte de  \n",
    "un ángulo de $\\theta_A = 5^o$ (punto $A$). Al llegar a quedar alineado con la vértical (punto $B$), bajo la misma longitud.  \n",
    "En ese momento la cuerda se pone en contacto con una superficie que corta a su longitud por la mitad ($d = 0.66\\ [m]$),  \n",
    "y la masa sigue su trayectoria hasta llegar al tercer punto (punto $C$) donde alcanza su máxima altura.  \n",
    "Llamemos $O$ al punto desde donde está colgada la cuerda.  \n",
    "Y llamemos $O^{\\prime}$ al punto donde la cuerda toca a la superficie en la vértical.  \n",
    "\n",
    "(a) Para calcular el valor de la velocidad en el punto más bajo, debemos ver que  \n",
    "\n",
    "$W = -\\Delta U = -(U_g^f - U_g^i) = -m\\ g\\ (h_{B,B} - h_{A,B}) = m\\ g\\ h_{A,B} = \\Delta K = K_f - K_i = K_f = {1 \\over 2}\\ m\\ v_f^2$  \n",
    "\n",
    "$\\therefore$  \n",
    "\n",
    "$v_f = \\sqrt{2\\ g\\ h_{A,B}}$  \n",
    "\n",
    "Observar que podríamos pensar que para calcular la altura de A respecto a B podríamos usar $\\theta_A$, pero eso no lo sabemos.  \n",
    "Si $\\theta_B$ es el ángulo que está entre OB y BA. Entonces podemos ver que  \n",
    "\n",
    "$\\sin(90^o - \\theta_B) = \\dfrac{h_{A,B}}{BA} \\implies h_{A,B} = BA\\ \\sin(90^o - \\theta_B)$  \n",
    "\n",
    "$BA = \\sqrt{OA^2 + OB^2 - 2\\ OA\\ OB\\ \\cos(\\theta_A)} = \\sqrt{2L^2\\ (1 - \\cos(\\theta_A))} = \\sqrt{2 \\times 1.32^2\\ [m^2]\\ (1 - \\cos(5^o))} = 0.115155 [m]$  \n",
    "\n",
    "$\\dfrac{\\sin(\\theta_A)}{BA} =\\dfrac{\\sin(\\theta_B)}{OA} \\implies \\sin(\\theta_B) = \\dfrac{L\\ \\sin(\\theta_A)}{BA} = 0.9990498061 \\implies \\theta_B = 87.5^o$ \n",
    "\n",
    "$\\therefore$\n",
    "\n",
    "$h_{A,B} = BA\\ \\sin(90^o - 87.5^o) = 5 \\times 10^{-3} [m]$\n",
    "\n",
    "$v_f = 0.31\\ [m/s] = 31\\ [cm/s]$\n",
    "\n",
    "(b) No hay fuerzas externas interfiriendo en el sistema. Desde el punto $B$ se toma una velocidad inicial igual a la velocidad final  \n",
    "encontrada en (a). Pero ahora el trabajo es tal que  \n",
    "\n",
    "$W = -(U_g^f - U_g^i) = -m\\ g\\ (h_{C,B} - h_{B,B}) = -m\\ g\\ h_{C,B} = \\Delta K = K_f - K_i = - K_i = - m\\ g\\ h_{A,B}$  \n",
    "\n",
    "$\\therefore$  \n",
    "\n",
    "$h_{C,B} = h_{A,B}$\n",
    "\n",
    "Se supone además que como la gravedad es una fuerza conservativa y el cambio de potencial también puede ser calculado como si la  \n",
    "masa hubiera subido por un plano desde $B$ hacía $C$ (con algún ángulo $\\alpha$). Además  \n",
    "\n",
    "$CB^2 = O^{\\prime}C^2 + O^{\\prime}B^2 - 2\\ O^{\\prime}C\\ O^{\\prime}B\\ \\cos(\\theta_C) = L^2/2\\ (1 - \\cos(\\theta_C)) = 0.8712\\ [m^2]\\ (1 - \\cos(\\theta_C))$  \n",
    "\n",
    "$\\sin{\\alpha} = \\dfrac{h_{A,B}}{CB} \\implies \\dfrac{h_{A,B}}{\\sin(\\alpha)} = \\sqrt{0.8712\\ [m^2]\\ (1 - \\cos(\\theta_C))}$  \n",
    "\n",
    "$\\therefore$  \n",
    "\n",
    "$\\bigg( \\dfrac{h_{A,B}}{\\sin(\\alpha)} \\bigg)^2 / (0.8712\\ [m^2]) = 1 - \\cos(\\theta_C)$  \n",
    "\n",
    "$\\theta_C = \\arccos \\bigg( 1 - \\bigg( \\dfrac{h_{A,B}}{\\sin(\\alpha)} \\bigg)^2 / (0.8712\\ [m^2]) \\bigg)$\n",
    "\n",
    "Los triángulos del ambos lados son semejantes, por la altura dada, luego $\\sin(\\alpha) = \\sin(90^o - \\theta_B) = \\sin(2.5^o)$.  \n",
    "Entonces \n",
    "\n",
    "$\\theta_C = \\arccos(1 - BA^2 / (0.8712\\ [m^2])) = 10^o$  \n",
    "\n",
    "(c) La tensión de la cuerda en el punto $B$ va a ser igual a la fuerza con la que se \"tira\" hacía el punto $O$ en ese instante  \n",
    "\n",
    "$T = m\\ a_c = m\\ \\dfrac{v_t^2}{L} = m\\ \\dfrac{0.31^2}{1.32}\\ [m/s^2] = m\\ \\dfrac{961}{13200}\\ [m/s^2]$  \n"
   ],
   "cell_type": "markdown",
   "metadata": {}
  },
  {
   "source": [
    "### Ejercicio 4  \n",
    "\n",
    "La constante del resorte es $k = 2\\ [N/m]$ y el cuerpo es tal que $m = 1\\ [Kg]$. La superficie es horizontal y sin fricción.  \n",
    "Desde la posición de equilibrio el cuerpo está comprimido $L = 0.3\\ [m]$, en el momento en que se libera.  \n",
    "El cuerpo no se encuentra atado al resorte.  \n",
    "\n",
    "(a) Al ser liberado la energía potencial se transforma en trabajo por la fuerza restitutiva, esto también acelera  \n",
    "el cuerpo.  \n",
    "\n",
    "(b) Llamemos $x_0 = 0\\ [m]\\ \\mathbf{\\hat{\\imath}}$ a la posición de equlibrio y $x_r = 0.3\\ [m]\\ \\mathbf{\\hat{\\imath}}$ a la  \n",
    "posición de compresión. Va a haber un cambio de energía potencial y ése será el trabajo realizado por el resorte  \n",
    "\n",
    "$U_{el} = {1 \\over 2} k\\ x^2$  \n",
    "\n",
    "$W = - \\Delta U_{el} = -(U_{el}^f - U_{el}^i) = -{1 \\over 2} k\\ (0^2 - 0.3^2) = 0.09\\ [J]$  \n",
    "\n",
    "(c) El resorte ha sido liberado, entonces el cuerpo es acelerado hacía la posición de equilibrio, de forma que el trabajo  \n",
    "realizado por el resorte es el cambio de energía cinética del cuerpo  \n",
    "\n",
    "$W = \\Delta K = K_f - K_i = K_f = 0.09\\ [J] = {1 \\over 2} 1\\ [Kg]\\ v_f^2 \\implies v_f = \\sqrt{2W \\over m} = {3\\sqrt{2} \\over 10}\\ [m/s]$  \n",
    "\n",
    "(d) Ahora cuando el cuerpo se suelta entra en una superficie con rozamiento tal que $\\mu_d = 0.2$. Ahora la fuerza de roce es opuesta al  \n",
    "desplazamiento del cuerpo, de forma que la energía cinética va disminuyendo hasta que se detiene. La velocidad incial en este tramo es  \n",
    "la velocidad encontrada en (b). Quiero saber el trabajo que realizó la fuerza de rozamiento cuando el cuerpo tiene la mitad de la  \n",
    "velocidad, de forma que  \n",
    "\n",
    "$W = \\Delta K = K_f - K_i = {1 \\over 2} m\\ ((v/2)^2 - v^2) = -0.0675\\ [J]$  \n",
    "\n",
    "(e) Ahora queremos calcular la distancia que recorre el cuerpo hasta detenerse, entonces  \n",
    "\n",
    "$W = \\Delta K = K_f - K_i = - K_i = - {1 \\over 2} m\\ v^2 = -0.09\\ [J] = -F_r \\Delta x = -\\mu_d\\ m\\ g\\ \\Delta x \\implies \\Delta x = {9 \\over 196}\\ [m]$  \n"
   ],
   "cell_type": "markdown",
   "metadata": {}
  },
  {
   "source": [
    "### Ejercicio 5  \n",
    "\n",
    "Un cuerpo de masa $m = 5\\ [Kg]$ es apoyado suavemente sobre un resorte con $k = 2\\ [N/m]$ y que está colocado verticalmente sobre  \n",
    "una superficie.\n",
    "\n",
    "(a) El cuerpo ejerce fuerza sobre el resorte y, dependiendo de la fuerza que este haga para oponerse, puede que el resorte se  \n",
    "comprima hasta que el sistema pueda llegar a una posición de equilibrio.\n",
    "\n",
    "(b) El trabajo realizado sobre el resorte cuando el cuerpo llega al equilibrio. Llamemos $y_0$ al punto en donde el resorte está  \n",
    "en equilibrio natural e $y$ al lugar hasta donde se desplaza.  \n",
    "\n",
    "$F_{resorte} + N - P = 0$\n",
    "\n",
    "Más aún\n",
    "\n",
    "$W = -\\Delta U_{el} = -\\Delta U_g = -{1 \\over 2} k\\ (y^2 - y_0^2) = -{1 \\over 2} k\\ (y - y_0)\\ (y + y_0) = -m\\ g\\ (y - y_0) \\implies y + y_0 = \\dfrac{2\\ m\\ g}{k} \\implies y = \\dfrac{2\\ m\\ g}{k} - y_0$  \n",
    "\n",
    "$W = 2401\\ [J]$ \n",
    "\n",
    "(c) El cuerpo cae libremente desde una altura $h = 1\\ [m]$ antes de encontrar el resorte, entonces va a ejercer una fuerza hacia  \n",
    "abajo comprimiendo al resorte. El cuerpo tiene una cierta velocidad al llegar a tocar el resorte  \n",
    "\n",
    "$W = -\\Delta U_g = -(U_g^f - U_g^i) = -m\\ g\\ (h_f - h_i) = m\\ g\\ [m] = \\Delta K = K_f$  \n",
    "\n",
    "Pero la energía que se pierde hasta llegar al equilibrio es igual a la energía potencial que gana el resorte   \n",
    "\n",
    "$-{1 \\over 2} k\\ (y^2 - y_0^2) = K_f^{\\prime} - K_i^{\\prime} = -K_i^{\\prime} = -K_f = -m\\ g\\ [m] \\implies y = \\sqrt{\\dfrac{2\\ m\\ g\\ [m]}{k} + y_0^2}$  \n",
    "\n"
   ],
   "cell_type": "markdown",
   "metadata": {}
  },
  {
   "source": [
    "### Ejercicio 6  \n",
    "\n",
    "Nuestros datos son $m = 250\\ [Kg]$, $L = 10\\ [m]$, $l = 1\\ [m]$.\n",
    "\n",
    "(a) En la posición nueva del embalaje es necesario aplicar una fuerza que equilibre a la  \n",
    "componente que tiende a devolverlo al punto más bajo, entonces $F = m\\ g\\ \\sin(\\theta)$.  \n",
    "\n",
    "Pero parece que los profesores se refieren a que la fuerza se aplica de _costado_, de forma  \n",
    "que hay un águlo $\\alpha$ desde la dirección perpendicular al cable  \n",
    "\n",
    "$T - m\\ g\\ \\cos(\\theta) - F\\ \\sin(\\alpha) = 0$  \n",
    "\n",
    "$F\\ \\cos(\\alpha) - m\\ g\\ \\sin(\\theta) = 0$  \n",
    "\n",
    "Este $\\alpha$ puede ir variando entre $0^o$ y $90^o$. Entonces nos quedaría algo como  \n",
    "\n",
    "$F = m\\ g\\ \\dfrac{\\sin(\\theta)}{\\cos(\\alpha)}$  \n",
    "\n",
    "(Esta expresión generaliza lo que pensabamos al principio)  \n",
    "\n",
    "(b) No, pues no hay desplazamiento.  \n",
    "\n",
    "(c) Si. Usando lo del punto (a), tenemos $W = F\\ 1\\ [m] = m\\ g\\ \\dfrac{\\sin(\\theta)}{\\cos(\\alpha)}\\ [m]$.\n",
    "\n",
    "(d) No, como en (b).  \n",
    "\n"
   ],
   "cell_type": "markdown",
   "metadata": {}
  },
  {
   "cell_type": "code",
   "execution_count": null,
   "metadata": {},
   "outputs": [],
   "source": [
    "### Ejercicio 7  \n",
    "\n",
    "\n",
    "\n",
    "(a) \n",
    "\n",
    "(b) \n",
    "\n",
    "(c) \n"
   ]
  },
  {
   "cell_type": "code",
   "execution_count": null,
   "metadata": {},
   "outputs": [],
   "source": [
    "### Ejercicio 8  \n",
    "\n"
   ]
  },
  {
   "cell_type": "code",
   "execution_count": null,
   "metadata": {},
   "outputs": [],
   "source": [
    "### Ejercicio 9  \n",
    "\n",
    "(a) \n",
    "\n",
    "(b) \n"
   ]
  },
  {
   "cell_type": "code",
   "execution_count": null,
   "metadata": {},
   "outputs": [],
   "source": [
    "### Ejercicio 10  \n",
    "\n",
    "(a) \n",
    "\n",
    "(b) \n",
    "\n",
    "(c) \n"
   ]
  },
  {
   "cell_type": "code",
   "execution_count": null,
   "metadata": {},
   "outputs": [],
   "source": [
    "### Ejercicio 11  \n",
    "\n"
   ]
  },
  {
   "cell_type": "code",
   "execution_count": null,
   "metadata": {},
   "outputs": [],
   "source": [
    "### Ejercicio 12  \n",
    "\n"
   ]
  },
  {
   "cell_type": "code",
   "execution_count": null,
   "metadata": {},
   "outputs": [],
   "source": [
    "### Ejercicio 1 (Anexo)  \n",
    "\n",
    "\n",
    "\n"
   ]
  },
  {
   "cell_type": "code",
   "execution_count": null,
   "metadata": {},
   "outputs": [],
   "source": [
    "### Ejercicio 2 (Anexo)  \n",
    "\n"
   ]
  },
  {
   "cell_type": "code",
   "execution_count": null,
   "metadata": {},
   "outputs": [],
   "source": [
    "### Ejercicio 3 (Anexo)  \n",
    "\n",
    "\n"
   ]
  },
  {
   "cell_type": "code",
   "execution_count": null,
   "metadata": {},
   "outputs": [],
   "source": [
    "### Ejercicio 4 (Anexo)  \n",
    "\n",
    "\n"
   ]
  }
 ]
}