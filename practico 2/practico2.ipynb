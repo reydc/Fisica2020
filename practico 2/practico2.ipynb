{
 "metadata": {
  "language_info": {
   "codemirror_mode": {
    "name": "ipython",
    "version": 3
   },
   "file_extension": ".py",
   "mimetype": "text/x-python",
   "name": "python",
   "nbconvert_exporter": "python",
   "pygments_lexer": "ipython3",
   "version": "3.5.3-final"
  },
  "orig_nbformat": 2,
  "kernelspec": {
   "name": "Python 3.5.3 64-bit",
   "display_name": "Python 3.5.3 64-bit",
   "metadata": {
    "interpreter": {
     "hash": "767d51c1340bd893661ea55ea3124f6de3c7a262a8b4abca0554b478b1e2ff90"
    }
   }
  }
 },
 "nbformat": 4,
 "nbformat_minor": 2,
 "cells": [
  {
   "source": [
    "### Ejercicio 1\n",
    "\n",
    "El cuerpo tiene masa $m = 10\\ [Kg]$ y la fuerza aplicada es de $F = 20\\ [N]$, entonces la aceleración es de $a = 2\\ [m/s^2]$.  \n"
   ],
   "cell_type": "markdown",
   "metadata": {}
  },
  {
   "source": [
    "### Ejercicio 2  \n",
    "\n",
    "La fuerza $\\vec{F}$ se aplica sobre el sistema de masa $M + m$ (bajo las hipótesis del problema).  \n",
    "\n",
    "(a) La aceleración del conjunto es $\\vec{a} = \\dfrac{\\vec{F}}{M + m}$  \n",
    "\n",
    "(b) Veamos las relaciones entre las dos fuerzas relacionadas por la cuerda rígida y el bloque, y la fuerza aplicada.\n",
    "\n",
    "La fuerza sobre la cuerda $\\vec{F}_1 = m\\ \\vec{a}$, pero $F$ es la resultante, así que $\\vec{F}_{BC} = F - F_1 = F - \\dfrac{m\\ F}{M + m} =  \\dfrac{M\\ F}{M + m}$,  \n",
    "con lo que $\\dfrac{F_{BC}}{F} = \\dfrac{M}{M + m}$  \n",
    "Si $m \\ll M$ entonces ${F_{BC} \\over F} \\approx {M \\over M} = 1$ ó $F_{BC} \\approx F$, con lo que podemos ignorar la cuerda    \n",
    "en el problema que estemos resolviendo.  \n",
    "\n"
   ],
   "cell_type": "markdown",
   "metadata": {}
  },
  {
   "source": [
    "### Ejercicio 3\n",
    "\n",
    "Elegimos como positivas las fuerzas que van en sentido de las agujas del reloj. Tenemos un sistema sin rozamiento  \n",
    "con el bloque con mayor masa cayendo por el plano y el de menor masa colgando por una polea y atado al primero:   \n",
    "\n",
    "$m_A = 8\\ [Kg]$, $m_B = 4\\ [Kg]$, $\\alpha = 37^o$ ó $\\alpha = {37 \\pi \\over 180}\\ rad$\n",
    "\n",
    "Oservar que $T_A = T_B = T$.   \n",
    "\n",
    "Para los bloques A y B:\n",
    "\n",
    "$\n",
    "\\begin{cases}\n",
    "a\\ m_A = T - P_{A,x}\\\\\n",
    "a\\ m_B = P_B - T\\\\\n",
    "\\end{cases}\n",
    "$  \n",
    "\n",
    "Sumando: $a = \\dfrac{P_B - P_{A,x}}{m_A + m_B} = \\dfrac{g\\ (m_B - m_A\\ \\sin(\\alpha))}{m_A + m_B} = -0.6652\\ [m/s^2]$  \n",
    "\n",
    "Como la aceleración es negativa, el desplazamiento es hacía abajo del plano (A arrastra a B).  \n",
    "\n",
    "Entonces $T = P_B - a\\ m_B = m_B\\ (g - a) = 41.86\\ [N]$  \n"
   ],
   "cell_type": "markdown",
   "metadata": {}
  },
  {
   "source": [
    "### Ejercicio 4  \n",
    "\n",
    "Los dos bloques están en contacto y se aplica una fuerza horizontal al primer bloque. EL sistema es tal que:  \n",
    "\n",
    "$\\vec{F} = (m_1 + m_2)\\ \\vec{a}$\n",
    "\n",
    "(a) Buscamos la fuerza de contacto entre los dos bloques. Se aplica fuerza sobre el primer bloque y  \n",
    "\n",
    "Con los datos dados, $a = 1\\ [m/s^2]$.  \n",
    "\n",
    "$\\vec{F} - \\vec{F}_{2,1} = m_1\\ \\vec{a} \\implies F_{2,1} = F - m_1\\ a = 1\\ [N]$  \n",
    "\n",
    "(b) En el caso en que se aplique la fuerza sobre el segundo bloque:  \n",
    "\n",
    "$-\\vec{F} + \\vec{F}_{1,2} = -m_2\\ \\vec{a} \\implies F_{1,2} = F - m_2\\ a = 2\\ [N]$  \n"
   ],
   "cell_type": "markdown",
   "metadata": {}
  },
  {
   "source": [
    "### Ejercicio 5  \n",
    "\n",
    "En el momento que está a máxima tensión la soga con la bolita tenemos que (con $g = 9.8\\ [m/s^2]$):  \n",
    "\n",
    "$\\vec{T} = \\vec{T}_x + \\vec{T}_y = -T\\ \\sin(\\theta) \\mathbf{\\hat{\\imath}} + T\\ \\cos(\\theta) \\mathbf{\\hat{\\jmath}}$  \n",
    "\n",
    "$\\vec{F} = \\vec{F}_x + \\vec{F}_y = F\\ \\sin(\\theta) \\mathbf{\\hat{\\imath}} + (-m\\ g) \\mathbf{\\hat{\\jmath}} = m\\ a_x \\mathbf{\\hat{\\imath}} + (-m\\ g) \\mathbf{\\hat{\\jmath}}$    \n",
    "\n",
    "Igualamos las componentes, entonces, si la soga sigue en equilibrio instantáneamente:  \n",
    "\n",
    "$T = F$  \n",
    "\n",
    "$-T\\ \\sin(\\theta) + F\\ \\sin(\\theta) = -T\\ \\sin(\\theta) + m\\ a_x = 0$  \n",
    "\n",
    "$T\\ \\cos(\\theta) - m\\ g = 0$  \n",
    "\n",
    "Observar que:  \n",
    "\n",
    "$F^2 = (m\\ a_x)^2 + (m\\ g)^2 = m^2\\ (a_x^2 + g^2) \\implies a_x = \\sqrt{(F/m)^2 - g^2}$  \n",
    "\n",
    "$\\therefore\\ \\ a_x = \\sqrt{(500\\ [N] / 10\\ [Kg])^2 - g^2} = 49.03\\ [m/s^2]$\n",
    "\n",
    "Además $\\theta = \\arccos(m\\ g / T) = 78.7^o$\n"
   ],
   "cell_type": "markdown",
   "metadata": {}
  },
  {
   "source": [
    "### Ejercicio 6  \n",
    "\n",
    "(a)  \n",
    "\n",
    "Sea $\\vec{F}$ la fuerza que se aplica al sistema de los tres bloques:  \n",
    "\n",
    "$\\vec{F} = (m_1 + m_2 + m_3)\\ \\vec{a} = M\\ \\vec{a}$  \n",
    "\n",
    "Observar que $T_3 = F_3$, la fuerza que empuja al bloque 3,\n",
    "\n",
    "$F_3 = T_3 = m_3\\ a = \\dfrac{m_3}{M} F$  \n",
    "\n",
    "Ahora bien, $T_2$ empuja al sistema de dos bloques, con lo que $T_2$ sirve para llevar al bloque 1 y 2.  \n",
    "Entonces la tensión es $T_2 = F - F_3 = F - T_3 = \\dfrac{m_1 + m_2}{M} F$ y $F_2 = m_2\\ a = \\dfrac{m_2}{M} F$  \n",
    "\n",
    "Luego $T_1 = T_2 - F_2 = \\dfrac{m_1}{M} F = F_1$  \n",
    "\n",
    "(b)   \n",
    "\n",
    "$m_1 = 20\\ [Kg]$, $m_2 = 20\\ [Kg]$, $m_3 = 30\\ [Kg]$, $T_3 = 60\\ [N]$  \n",
    "\n",
    "$M = 70\\ [Kg]$\n",
    "\n",
    "$F = T_3\\dfrac{M}{m_3} = 140\\ [N]$\n",
    "\n",
    "$T_2 = 80\\ [N]$  \n",
    "\n",
    "$T_1 = 40\\ [N]$  \n"
   ],
   "cell_type": "markdown",
   "metadata": {}
  },
  {
   "source": [
    "### Ejercicio 7  \n",
    "\n",
    "La caja es tal que $m\\ g = 200\\ [N]$, entonces $m = 1000/49\\ [Kg]$.  \n",
    "Además $\\mu_e = 0.6$. Así que a una fuerza $\\vec{F}$ que tira de la caja con un ángulo $\\alpha$  \n",
    "se le opone una fuerza de rozamiento estático máxima de $F_r = \\mu_e\\ N$.  \n",
    "\n",
    "Pero $\\vec{F}$ tiene dos componentes, entonces:  \n",
    "\n",
    "$F\\ \\sin(\\alpha) + N - P = 0$  \n",
    "\n",
    "$F\\ \\cos(\\alpha) - F_r = F\\ \\cos(\\alpha) - \\mu_e\\ N = 0 \\implies N = F\\ \\cos(\\alpha)/\\mu_e$  \n",
    "\n",
    "Entonces ocurre que: $F\\ (\\cos(\\alpha) + \\sin(\\alpha)) + N\\ (1 - \\mu_e) - P = F\\ (\\cos(\\alpha) + \\sin(\\alpha)) + (F\\ \\cos(\\alpha)/\\mu_e)\\ (1 - \\mu_e) - P = 0$  \n",
    "\n",
    "$F\\ (\\sin(\\alpha) + \\cos(\\alpha)/\\mu_e) = P$  \n",
    "\n",
    "$F = \\dfrac{\\mu_e\\ P}{\\mu_e\\ \\sin(\\alpha) + \\cos(\\alpha)}$  \n",
    "\n",
    "Con el peso dado, tenemos que:  \n",
    "\n",
    "Entonces  \n",
    "\n",
    "$\\alpha = 0^o \\implies F = 120\\ [N]$  \n",
    "\n",
    "$\\alpha = 30^o \\implies F = 102.91\\ [N]$\n"
   ],
   "cell_type": "markdown",
   "metadata": {}
  },
  {
   "cell_type": "code",
   "execution_count": null,
   "metadata": {},
   "outputs": [],
   "source": [
    "### Ejercicio 8  \n",
    "\n"
   ]
  },
  {
   "cell_type": "code",
   "execution_count": null,
   "metadata": {},
   "outputs": [],
   "source": [
    "### Ejercicio 9  \n",
    "\n"
   ]
  },
  {
   "cell_type": "code",
   "execution_count": null,
   "metadata": {},
   "outputs": [],
   "source": [
    "### Ejercicio 10\n",
    "\n"
   ]
  },
  {
   "cell_type": "code",
   "execution_count": null,
   "metadata": {},
   "outputs": [],
   "source": [
    "### Ejercicio 11  \n",
    "\n"
   ]
  },
  {
   "cell_type": "code",
   "execution_count": null,
   "metadata": {},
   "outputs": [],
   "source": [
    "### Ejercicio 12  \n",
    "\n"
   ]
  }
 ]
}