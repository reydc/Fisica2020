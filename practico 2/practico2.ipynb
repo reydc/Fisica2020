{
 "metadata": {
  "language_info": {
   "codemirror_mode": {
    "name": "ipython",
    "version": 3
   },
   "file_extension": ".py",
   "mimetype": "text/x-python",
   "name": "python",
   "nbconvert_exporter": "python",
   "pygments_lexer": "ipython3",
   "version": "3.5.3-final"
  },
  "orig_nbformat": 2,
  "kernelspec": {
   "name": "Python 3.5.3 64-bit",
   "display_name": "Python 3.5.3 64-bit",
   "metadata": {
    "interpreter": {
     "hash": "767d51c1340bd893661ea55ea3124f6de3c7a262a8b4abca0554b478b1e2ff90"
    }
   }
  }
 },
 "nbformat": 4,
 "nbformat_minor": 2,
 "cells": [
  {
   "source": [
    "### Ejercicio 1\n",
    "\n",
    "El cuerpo tiene masa $m = 10\\ [Kg]$ y la fuerza aplicada es de $F = 20\\ [N]$, entonces la aceleración es de $a = 2\\ [m/s^2]$.  \n"
   ],
   "cell_type": "markdown",
   "metadata": {}
  },
  {
   "source": [
    "### Ejercicio 2  \n",
    "\n",
    "La fuerza $\\vec{F}$ se aplica sobre el sistema de masa $M + m$ (bajo las hipótesis del problema).  \n",
    "\n",
    "(a) La aceleración del conjunto es $\\vec{a} = \\dfrac{\\vec{F}}{M + m}$  \n",
    "\n",
    "(b) Veamos las relaciones entre las dos fuerzas relacionadas por la cuerda rígida y el bloque, y la fuerza aplicada.\n",
    "\n",
    "El bloque hace fuerza sobre la cuerda $\\vec{F}_1 = M\\ \\vec{a}$, la fuerza opuesta a esta es $\\vec{F}_{BC} = - \\vec{F}_1$  \n",
    "y las aceleraciones son iguales en modulo, con lo que ${F_{BC} \\over M} = {F \\over M + m}$, entonces ${F_{BC} \\over F} = {M \\over M + m}$  \n",
    "Si $m \\ll M$ entonces ${F_{BC} \\over F} \\approx {M \\over M} = 1$ ó $F_{BC} \\approx F$, con lo que podemos ignorar la cuerda    \n",
    "en el problema que estemos resolviendo.  \n",
    "\n"
   ],
   "cell_type": "markdown",
   "metadata": {}
  },
  {
   "source": [
    "### Ejercicio 3\n",
    "\n",
    "Elegimos como positivas las fuerzas que van en sentido de las agujas del reloj. Tenemos un sistema sin rozamiento  \n",
    "con el bloque con mayor masa cayendo por el plano y el de menor masa colgando por una polea y atado al primero:   \n",
    "\n",
    "$m_A = 8\\ [Kg]$, $m_B = 4\\ [Kg]$, $\\alpha = 37^o$ ó $\\alpha = {37 \\pi \\over 180}\\ rad$\n",
    "\n",
    "Para el bloque A:  \n",
    "\n",
    "Para el bloque B tenemos que:  \n",
    "\n",
    "La aceleración es  \n",
    "La tensión en la cuerda es  \n",
    "\n",
    "\n"
   ],
   "cell_type": "markdown",
   "metadata": {}
  },
  {
   "source": [
    "### Ejercicio 4  \n",
    "\n",
    "Los dos bloques están en contacto y se aplica una fuerza horizontal al primer bloque. EL sistema es tal que:  \n",
    "\n",
    "$\\vec{F} = (m_1 + m_2)\\ \\vec{a}$\n",
    "\n",
    "(a) Buscamos la fuerza de contacto entre los dos bloques. Se aplica fuerza sobre el primer bloque y  \n",
    "\n",
    "Con los datos dados, $a = 1\\ [m/s^2]$.  \n",
    "\n",
    "$\\vec{F} - \\vec{F}_{2,1} = m_1\\ \\vec{a} \\implies F_{2,1} = F - m_1\\ a = 1\\ [N]$  \n",
    "\n",
    "(b) En el caso en que se aplique la fuerza sobre el segundo bloque:  \n",
    "\n",
    "$-\\vec{F} + \\vec{F}_{1,2} = -m_2\\ \\vec{a} \\implies F_{1,2} = F - m_2\\ a = 2\\ [N]$  \n"
   ],
   "cell_type": "markdown",
   "metadata": {}
  },
  {
   "source": [
    "### Ejercicio 5  \n",
    "\n",
    "En el momento que está a máxima tensión la soga con la bolita tenemos que (con $g = 9.8\\ [m/s^2]$):  \n",
    "\n",
    "$\\vec{T} = \\vec{T}_x + \\vec{T}_y = -T\\ \\sin(\\theta) \\mathbf{\\hat{\\imath}} + T\\ \\cos(\\theta) \\mathbf{\\hat{\\jmath}}$  \n",
    "\n",
    "$\\vec{F} = \\vec{F}_x + \\vec{F}_y = F\\ \\sin(\\theta) \\mathbf{\\hat{\\imath}} + (-m\\ g) \\mathbf{\\hat{\\jmath}} = m\\ a_x \\mathbf{\\hat{\\imath}} + (-m\\ g) \\mathbf{\\hat{\\jmath}}$    \n",
    "\n",
    "Igualamos las componentes, entonces, si la soga sigue en equilibrio instantáneamente:  \n",
    "\n",
    "$T = F$  \n",
    "\n",
    "$-T\\ \\sin(\\theta) + F\\ \\sin(\\theta) = -T\\ \\sin(\\theta) + m\\ a_x = 0$  \n",
    "\n",
    "$T\\ \\cos(\\theta) - m\\ g = 0$  \n",
    "\n",
    "Observar que:  \n",
    "\n",
    "$F^2 = (m\\ a_x)^2 + (m\\ g)^2 = m^2\\ (a_x^2 + g^2) \\implies a_x = \\sqrt{(F/m)^2 - g^2}$  \n",
    "\n",
    "$\\therefore\\ \\ a_x = \\sqrt{(500\\ [N] / 10\\ [Kg])^2 - g^2} = 49.03\\ [m/s^2]$\n",
    "\n",
    "Además $\\theta = \\arccos(m\\ g / T) = 78.7^o$\n"
   ],
   "cell_type": "markdown",
   "metadata": {}
  },
  {
   "cell_type": "code",
   "execution_count": null,
   "metadata": {},
   "outputs": [],
   "source": []
  }
 ]
}